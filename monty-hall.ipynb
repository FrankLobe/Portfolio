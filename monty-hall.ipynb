{
 "cells": [
  {
   "cell_type": "code",
   "execution_count": 2,
   "metadata": {
    "_cell_guid": "b1076dfc-b9ad-4769-8c92-a6c4dae69d19",
    "_uuid": "8f2839f25d086af736a60e9eeb907d3b93b6e0e5"
   },
   "outputs": [],
   "source": [
    "import random"
   ]
  },
  {
   "cell_type": "markdown",
   "metadata": {},
   "source": [
    "# Step One: Confirm the probability of winning\n",
    "\n",
    "The contestant is given the choice of three doors. One of these doors contains the prize. The contestant chooses one door at random. The assumption would be that the odds that the contestant will choose correctly will be one in three. This is confirmed below. "
   ]
  },
  {
   "cell_type": "code",
   "execution_count": 3,
   "metadata": {},
   "outputs": [
    {
     "name": "stdout",
     "output_type": "stream",
     "text": [
      "0.33\n"
     ]
    }
   ],
   "source": [
    "won = 0\n",
    "\n",
    "for count in range(1000000):\n",
    "\n",
    "    door_selected = random.randint(1, 3)\n",
    "    door_winning = random.randint(1, 3)\n",
    "\n",
    "    if door_selected == door_winning: won += 1\n",
    "\n",
    "print(round((won / count), 2))"
   ]
  },
  {
   "cell_type": "markdown",
   "metadata": {},
   "source": [
    "# Step Two: Confirm the probability of winning without switching\n",
    "\n",
    "After the initial selection there are only two possibilities. Either the contestant has chosen the correct door, or the winning door in one of the remaining two doors. If the winning door is one of the remaining doors then one of these door is picked at random and shown. Otherwise, the non-winning door is shown. The probability of the contestant choosing the winning door remains unchanged at about one in three."
   ]
  },
  {
   "cell_type": "code",
   "execution_count": 4,
   "metadata": {},
   "outputs": [
    {
     "name": "stdout",
     "output_type": "stream",
     "text": [
      "0.33\n"
     ]
    }
   ],
   "source": [
    "won = 0\n",
    "\n",
    "for count in range(1000000):\n",
    "\n",
    "    door_selected = random.randint(1, 3)\n",
    "    door_winning = random.randint(1, 3)\n",
    "    door_shown = 0\n",
    "\n",
    "    if door_selected == door_winning:\n",
    "        \n",
    "        if door_selected == 1:\n",
    "            \n",
    "            if random.randint(1, 2) == 1: door_shown = 2\n",
    "            else: door_shown = 3\n",
    "            \n",
    "        elif door_selected == 2:\n",
    "            \n",
    "            if random.randint(1, 2) == 1: door_shown = 1\n",
    "            else: door_shown = 3\n",
    "            \n",
    "        elif door_selected == 3:\n",
    "            \n",
    "            if random.randint(1, 2) == 1: door_shown = 1\n",
    "            else: door_shown = 2\n",
    "        \n",
    "    else:\n",
    "        \n",
    "        if door_selected == 1:\n",
    "            \n",
    "            if door_winning == 2: door_shown = 3\n",
    "            else: door_shown = 2\n",
    "            \n",
    "        elif door_selected == 2:\n",
    "            \n",
    "            if door_winning == 1: door_shown = 3\n",
    "            else: door_shown = 1\n",
    "            \n",
    "        elif door_selected == 3:\n",
    "    \n",
    "            if door_winning == 2: door_shown = 3\n",
    "            else: door_shown = 2\n",
    "                \n",
    "    if door_selected == door_winning: won += 1\n",
    "        \n",
    "print(round((won / count), 2))"
   ]
  },
  {
   "cell_type": "markdown",
   "metadata": {},
   "source": [
    "# Step Three: Confirm the probability of winning with switching\n",
    "\n",
    "It would appear that the probability of the contestant winning doubles if the selected door is switched to the other door. Therefore, it is in the contestant's advantage to switch their choice."
   ]
  },
  {
   "cell_type": "code",
   "execution_count": null,
   "metadata": {},
   "outputs": [],
   "source": [
    "won = 0\n",
    "\n",
    "for count in range(1000000):\n",
    "\n",
    "    door_first_selected = random.randint(1, 3)\n",
    "    door_winning = random.randint(1, 3)\n",
    "    door_shown = 0\n",
    "\n",
    "    if door_first_selected == door_winning:\n",
    "        \n",
    "        if door_first_selected == 1:\n",
    "            \n",
    "            if random.randint(1, 2) == 1: door_shown = 2\n",
    "            else: door_shown = 3\n",
    "            \n",
    "        elif door_first_selected == 2:\n",
    "            \n",
    "            if random.randint(1, 2) == 1: door_shown = 1\n",
    "            else: door_shown = 3\n",
    "            \n",
    "        elif door_first_selected == 3:\n",
    "            \n",
    "            if random.randint(1, 2) == 1: door_shown = 1\n",
    "            else: door_shown = 2\n",
    "        \n",
    "    else:\n",
    "        \n",
    "        if door_first_selected == 1:\n",
    "            \n",
    "            if door_winning == 2: door_shown = 3\n",
    "            else: door_shown = 2\n",
    "            \n",
    "        elif door_first_selected == 2:\n",
    "            \n",
    "            if door_winning == 1: door_shown = 3\n",
    "            else: door_shown = 1\n",
    "            \n",
    "        elif door_first_selected == 3:\n",
    "    \n",
    "            if door_winning == 2: door_shown = 3\n",
    "            else: door_shown = 2\n",
    "                \n",
    "    if door_first_selected != door_winning: won += 1\n",
    "        \n",
    "print(round((won / count), 2))"
   ]
  }
 ],
 "metadata": {
  "kernelspec": {
   "display_name": "Python 3",
   "language": "python",
   "name": "python3"
  },
  "language_info": {
   "codemirror_mode": {
    "name": "ipython",
    "version": 3
   },
   "file_extension": ".py",
   "mimetype": "text/x-python",
   "name": "python",
   "nbconvert_exporter": "python",
   "pygments_lexer": "ipython3",
   "version": "3.8.5"
  }
 },
 "nbformat": 4,
 "nbformat_minor": 4
}
