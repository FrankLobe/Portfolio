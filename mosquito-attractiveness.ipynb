{
 "cells": [
  {
   "cell_type": "markdown",
   "metadata": {
    "papermill": {
     "duration": 0.016707,
     "end_time": "2021-03-04T20:14:38.623382",
     "exception": false,
     "start_time": "2021-03-04T20:14:38.606675",
     "status": "completed"
    },
    "tags": []
   },
   "source": [
    "# Executive Summary\n",
    "\n",
    "<a id='Executive_Summary'></a>\n",
    "\n",
    "The following presentation will prove conclusively that consumption of beer results in an increase in terms of attractiveness to mosquitos. This presentation will begin by loading a dataset containing data related to mosquito attractiveness for individuals that consumed beer and water. This data will then be compared for individuals that consumed beer versus water. The two distributions will then be proven to be different in terms of statistical significance beyond random chance. The primary method for doing so will be the computational method. T-Tests will also be used to verify this conclusion.  \n"
   ]
  },
  {
   "cell_type": "code",
   "execution_count": 1,
   "metadata": {
    "_cell_guid": "b1076dfc-b9ad-4769-8c92-a6c4dae69d19",
    "_uuid": "8f2839f25d086af736a60e9eeb907d3b93b6e0e5",
    "execution": {
     "iopub.execute_input": "2021-03-04T20:14:38.666119Z",
     "iopub.status.busy": "2021-03-04T20:14:38.665373Z",
     "iopub.status.idle": "2021-03-04T20:14:39.557675Z",
     "shell.execute_reply": "2021-03-04T20:14:39.556841Z"
    },
    "papermill": {
     "duration": 0.919173,
     "end_time": "2021-03-04T20:14:39.557996",
     "exception": false,
     "start_time": "2021-03-04T20:14:38.638823",
     "status": "completed"
    },
    "tags": []
   },
   "outputs": [
    {
     "name": "stdout",
     "output_type": "stream",
     "text": [
      "<class 'pandas.core.frame.DataFrame'>\n",
      "RangeIndex: 43 entries, 0 to 42\n",
      "Data columns (total 2 columns):\n",
      " #   Column     Non-Null Count  Dtype \n",
      "---  ------     --------------  ----- \n",
      " 0   Response   43 non-null     int64 \n",
      " 1   Treatment  43 non-null     object\n",
      "dtypes: int64(1), object(1)\n",
      "memory usage: 816.0+ bytes\n"
     ]
    }
   ],
   "source": [
    "import numpy as np\n",
    "import pandas as pd\n",
    "import matplotlib.pyplot as plt\n",
    "import seaborn as sns\n",
    "import statistics as st\n",
    "import random\n",
    "\n",
    "from scipy import stats\n",
    "from scipy.stats.mstats import gmean\n",
    "from statsmodels.stats.descriptivestats import Description\n",
    "\n",
    "%matplotlib inline\n",
    "sns.set()\n",
    "\n",
    "class Mosquitos:\n",
    "    \n",
    "    file_data = ''\n",
    "    \n",
    "    beer_df = pd.DataFrame()\n",
    "    water_df = pd.DataFrame()\n",
    "    \n",
    "    beer_response = np.array([])\n",
    "    water_response = np.array([])\n",
    "    \n",
    "    def load_file(self, file_name):\n",
    "        \n",
    "        self.file_data = pd.read_csv(file_name)\n",
    "        self.beer_df = self.file_data[(self.file_data['Treatment'] == 'Beer')].copy()\n",
    "        self.beer_response = self.beer_df['Response'].to_numpy()\n",
    "        self.beer_response = np.sort(self.beer_response)\n",
    "        self.water_df = self.file_data[(self.file_data['Treatment'] == 'Water')].copy()\n",
    "        self.water_response = self.water_df['Response'].to_numpy()\n",
    "        self.water_response = np.sort(self.water_response)\n",
    "        self.file_data.info()\n",
    "            \n",
    "    def __init__(self, file_name):        \n",
    "        \n",
    "        self.load_file(file_name)\n",
    "        \n",
    "_mosquitos = Mosquitos('../input/mosquitos/mosquitos_data.csv')"
   ]
  },
  {
   "cell_type": "code",
   "execution_count": 2,
   "metadata": {
    "execution": {
     "iopub.execute_input": "2021-03-04T20:14:39.600005Z",
     "iopub.status.busy": "2021-03-04T20:14:39.599035Z",
     "iopub.status.idle": "2021-03-04T20:14:39.602936Z",
     "shell.execute_reply": "2021-03-04T20:14:39.603364Z"
    },
    "papermill": {
     "duration": 0.028157,
     "end_time": "2021-03-04T20:14:39.603547",
     "exception": false,
     "start_time": "2021-03-04T20:14:39.575390",
     "status": "completed"
    },
    "tags": []
   },
   "outputs": [
    {
     "data": {
      "text/plain": [
       "Response     0\n",
       "Treatment    0\n",
       "dtype: int64"
      ]
     },
     "execution_count": 2,
     "metadata": {},
     "output_type": "execute_result"
    }
   ],
   "source": [
    "_mosquitos.file_data.isnull().sum()"
   ]
  },
  {
   "cell_type": "code",
   "execution_count": 3,
   "metadata": {
    "execution": {
     "iopub.execute_input": "2021-03-04T20:14:39.640192Z",
     "iopub.status.busy": "2021-03-04T20:14:39.639551Z",
     "iopub.status.idle": "2021-03-04T20:14:39.643566Z",
     "shell.execute_reply": "2021-03-04T20:14:39.642947Z"
    },
    "papermill": {
     "duration": 0.024269,
     "end_time": "2021-03-04T20:14:39.643713",
     "exception": false,
     "start_time": "2021-03-04T20:14:39.619444",
     "status": "completed"
    },
    "tags": []
   },
   "outputs": [
    {
     "data": {
      "text/plain": [
       "array([17, 18, 19, 19, 20, 20, 20, 20, 21, 21, 21, 23, 24, 24, 24, 25, 26,\n",
       "       27, 27, 27, 28, 28, 29, 31, 31])"
      ]
     },
     "execution_count": 3,
     "metadata": {},
     "output_type": "execute_result"
    }
   ],
   "source": [
    "_mosquitos.beer_response"
   ]
  },
  {
   "cell_type": "code",
   "execution_count": 4,
   "metadata": {
    "execution": {
     "iopub.execute_input": "2021-03-04T20:14:39.682752Z",
     "iopub.status.busy": "2021-03-04T20:14:39.682130Z",
     "iopub.status.idle": "2021-03-04T20:14:39.685527Z",
     "shell.execute_reply": "2021-03-04T20:14:39.685926Z"
    },
    "papermill": {
     "duration": 0.025604,
     "end_time": "2021-03-04T20:14:39.686101",
     "exception": false,
     "start_time": "2021-03-04T20:14:39.660497",
     "status": "completed"
    },
    "tags": []
   },
   "outputs": [
    {
     "data": {
      "text/plain": [
       "array([12, 13, 15, 15, 16, 18, 19, 19, 20, 20, 21, 21, 22, 22, 22, 23, 24,\n",
       "       24])"
      ]
     },
     "execution_count": 4,
     "metadata": {},
     "output_type": "execute_result"
    }
   ],
   "source": [
    "_mosquitos.water_response"
   ]
  },
  {
   "cell_type": "code",
   "execution_count": 5,
   "metadata": {
    "execution": {
     "iopub.execute_input": "2021-03-04T20:14:39.743846Z",
     "iopub.status.busy": "2021-03-04T20:14:39.742882Z",
     "iopub.status.idle": "2021-03-04T20:14:39.903786Z",
     "shell.execute_reply": "2021-03-04T20:14:39.903157Z"
    },
    "papermill": {
     "duration": 0.200163,
     "end_time": "2021-03-04T20:14:39.903945",
     "exception": false,
     "start_time": "2021-03-04T20:14:39.703782",
     "status": "completed"
    },
    "tags": []
   },
   "outputs": [
    {
     "data": {
      "image/png": "[encoded data removed]",
      "text/plain": [
       "<Figure size 432x288 with 1 Axes>"
      ]
     },
     "metadata": {},
     "output_type": "display_data"
    }
   ],
   "source": [
    "sns.boxplot(data = _mosquitos.file_data, y = 'Response', x = 'Treatment').set(title = 'Attractiveness Comparison Beer versus Water', ylabel = 'Number of Mosquitoes')\n",
    "plt.show()"
   ]
  },
  {
   "cell_type": "code",
   "execution_count": 6,
   "metadata": {
    "execution": {
     "iopub.execute_input": "2021-03-04T20:14:40.042257Z",
     "iopub.status.busy": "2021-03-04T20:14:40.041460Z",
     "iopub.status.idle": "2021-03-04T20:14:40.216388Z",
     "shell.execute_reply": "2021-03-04T20:14:40.215802Z"
    },
    "papermill": {
     "duration": 0.295281,
     "end_time": "2021-03-04T20:14:40.216533",
     "exception": false,
     "start_time": "2021-03-04T20:14:39.921252",
     "status": "completed"
    },
    "tags": []
   },
   "outputs": [
    {
     "data": {
      "image/png": "[encoded data removed]",
      "text/plain": [
       "<Figure size 432x288 with 1 Axes>"
      ]
     },
     "metadata": {},
     "output_type": "display_data"
    }
   ],
   "source": [
    "sns.histplot(_mosquitos.beer_response)\n",
    "plt.show()"
   ]
  },
  {
   "cell_type": "code",
   "execution_count": 7,
   "metadata": {
    "execution": {
     "iopub.execute_input": "2021-03-04T20:14:40.282314Z",
     "iopub.status.busy": "2021-03-04T20:14:40.281693Z",
     "iopub.status.idle": "2021-03-04T20:14:40.445421Z",
     "shell.execute_reply": "2021-03-04T20:14:40.444676Z"
    },
    "papermill": {
     "duration": 0.211232,
     "end_time": "2021-03-04T20:14:40.445577",
     "exception": false,
     "start_time": "2021-03-04T20:14:40.234345",
     "status": "completed"
    },
    "tags": []
   },
   "outputs": [
    {
     "data": {
      "image/png": "[encoded data removed]",
      "text/plain": [
       "<Figure size 432x288 with 1 Axes>"
      ]
     },
     "metadata": {},
     "output_type": "display_data"
    }
   ],
   "source": [
    "sns.histplot(_mosquitos.water_response)\n",
    "plt.show()"
   ]
  },
  {
   "cell_type": "code",
   "execution_count": 8,
   "metadata": {
    "execution": {
     "iopub.execute_input": "2021-03-04T20:14:40.492984Z",
     "iopub.status.busy": "2021-03-04T20:14:40.490416Z",
     "iopub.status.idle": "2021-03-04T20:14:40.503555Z",
     "shell.execute_reply": "2021-03-04T20:14:40.502996Z"
    },
    "papermill": {
     "duration": 0.039484,
     "end_time": "2021-03-04T20:14:40.503688",
     "exception": false,
     "start_time": "2021-03-04T20:14:40.464204",
     "status": "completed"
    },
    "tags": []
   },
   "outputs": [
    {
     "data": {
      "text/html": [
       "<div>\n",
       "<style scoped>\n",
       "    .dataframe tbody tr th:only-of-type {\n",
       "        vertical-align: middle;\n",
       "    }\n",
       "\n",
       "    .dataframe tbody tr th {\n",
       "        vertical-align: top;\n",
       "    }\n",
       "\n",
       "    .dataframe thead th {\n",
       "        text-align: right;\n",
       "    }\n",
       "</style>\n",
       "<table border=\"1\" class=\"dataframe\">\n",
       "  <thead>\n",
       "    <tr style=\"text-align: right;\">\n",
       "      <th></th>\n",
       "      <th>Response</th>\n",
       "    </tr>\n",
       "  </thead>\n",
       "  <tbody>\n",
       "    <tr>\n",
       "      <th>count</th>\n",
       "      <td>25.000000</td>\n",
       "    </tr>\n",
       "    <tr>\n",
       "      <th>mean</th>\n",
       "      <td>23.600000</td>\n",
       "    </tr>\n",
       "    <tr>\n",
       "      <th>std</th>\n",
       "      <td>4.133199</td>\n",
       "    </tr>\n",
       "    <tr>\n",
       "      <th>min</th>\n",
       "      <td>17.000000</td>\n",
       "    </tr>\n",
       "    <tr>\n",
       "      <th>25%</th>\n",
       "      <td>20.000000</td>\n",
       "    </tr>\n",
       "    <tr>\n",
       "      <th>50%</th>\n",
       "      <td>24.000000</td>\n",
       "    </tr>\n",
       "    <tr>\n",
       "      <th>75%</th>\n",
       "      <td>27.000000</td>\n",
       "    </tr>\n",
       "    <tr>\n",
       "      <th>max</th>\n",
       "      <td>31.000000</td>\n",
       "    </tr>\n",
       "  </tbody>\n",
       "</table>\n",
       "</div>"
      ],
      "text/plain": [
       "        Response\n",
       "count  25.000000\n",
       "mean   23.600000\n",
       "std     4.133199\n",
       "min    17.000000\n",
       "25%    20.000000\n",
       "50%    24.000000\n",
       "75%    27.000000\n",
       "max    31.000000"
      ]
     },
     "execution_count": 8,
     "metadata": {},
     "output_type": "execute_result"
    }
   ],
   "source": [
    "_mosquitos.beer_df.describe()"
   ]
  },
  {
   "cell_type": "code",
   "execution_count": 9,
   "metadata": {
    "execution": {
     "iopub.execute_input": "2021-03-04T20:14:40.555834Z",
     "iopub.status.busy": "2021-03-04T20:14:40.555046Z",
     "iopub.status.idle": "2021-03-04T20:14:40.559661Z",
     "shell.execute_reply": "2021-03-04T20:14:40.559008Z"
    },
    "papermill": {
     "duration": 0.037418,
     "end_time": "2021-03-04T20:14:40.559807",
     "exception": false,
     "start_time": "2021-03-04T20:14:40.522389",
     "status": "completed"
    },
    "tags": []
   },
   "outputs": [
    {
     "data": {
      "text/html": [
       "<div>\n",
       "<style scoped>\n",
       "    .dataframe tbody tr th:only-of-type {\n",
       "        vertical-align: middle;\n",
       "    }\n",
       "\n",
       "    .dataframe tbody tr th {\n",
       "        vertical-align: top;\n",
       "    }\n",
       "\n",
       "    .dataframe thead th {\n",
       "        text-align: right;\n",
       "    }\n",
       "</style>\n",
       "<table border=\"1\" class=\"dataframe\">\n",
       "  <thead>\n",
       "    <tr style=\"text-align: right;\">\n",
       "      <th></th>\n",
       "      <th>Response</th>\n",
       "    </tr>\n",
       "  </thead>\n",
       "  <tbody>\n",
       "    <tr>\n",
       "      <th>count</th>\n",
       "      <td>18.000000</td>\n",
       "    </tr>\n",
       "    <tr>\n",
       "      <th>mean</th>\n",
       "      <td>19.222222</td>\n",
       "    </tr>\n",
       "    <tr>\n",
       "      <th>std</th>\n",
       "      <td>3.671120</td>\n",
       "    </tr>\n",
       "    <tr>\n",
       "      <th>min</th>\n",
       "      <td>12.000000</td>\n",
       "    </tr>\n",
       "    <tr>\n",
       "      <th>25%</th>\n",
       "      <td>16.500000</td>\n",
       "    </tr>\n",
       "    <tr>\n",
       "      <th>50%</th>\n",
       "      <td>20.000000</td>\n",
       "    </tr>\n",
       "    <tr>\n",
       "      <th>75%</th>\n",
       "      <td>22.000000</td>\n",
       "    </tr>\n",
       "    <tr>\n",
       "      <th>max</th>\n",
       "      <td>24.000000</td>\n",
       "    </tr>\n",
       "  </tbody>\n",
       "</table>\n",
       "</div>"
      ],
      "text/plain": [
       "        Response\n",
       "count  18.000000\n",
       "mean   19.222222\n",
       "std     3.671120\n",
       "min    12.000000\n",
       "25%    16.500000\n",
       "50%    20.000000\n",
       "75%    22.000000\n",
       "max    24.000000"
      ]
     },
     "execution_count": 9,
     "metadata": {},
     "output_type": "execute_result"
    }
   ],
   "source": [
    "_mosquitos.water_df.describe()"
   ]
  },
  {
   "cell_type": "markdown",
   "metadata": {
    "papermill": {
     "duration": 0.019744,
     "end_time": "2021-03-04T20:14:40.601574",
     "exception": false,
     "start_time": "2021-03-04T20:14:40.581830",
     "status": "completed"
    },
    "tags": []
   },
   "source": [
    "There does appear to be an association between beer consumption and attractiveness to mosquitos. Individuals who consumed beer attracted on average over four more mosquitos than individuals that did not consume beer when considering both mean and median. The fact that mean and median are so similar would suggest that outliers are not adversely affecting the mean. Whether or not this difference is significant will be examined in greater detail below."
   ]
  },
  {
   "cell_type": "code",
   "execution_count": 10,
   "metadata": {
    "execution": {
     "iopub.execute_input": "2021-03-04T20:14:40.676372Z",
     "iopub.status.busy": "2021-03-04T20:14:40.669708Z",
     "iopub.status.idle": "2021-03-04T20:14:40.841575Z",
     "shell.execute_reply": "2021-03-04T20:14:40.840953Z"
    },
    "papermill": {
     "duration": 0.220661,
     "end_time": "2021-03-04T20:14:40.841719",
     "exception": false,
     "start_time": "2021-03-04T20:14:40.621058",
     "status": "completed"
    },
    "tags": []
   },
   "outputs": [
    {
     "data": {
      "image/png": "[encoded data removed]",
      "text/plain": [
       "<Figure size 432x288 with 1 Axes>"
      ]
     },
     "metadata": {},
     "output_type": "display_data"
    }
   ],
   "source": [
    "sns.kdeplot(_mosquitos.beer_response)\n",
    "sns.kdeplot(_mosquitos.water_response)\n",
    "plt.show()"
   ]
  },
  {
   "cell_type": "code",
   "execution_count": 11,
   "metadata": {
    "execution": {
     "iopub.execute_input": "2021-03-04T20:14:40.891860Z",
     "iopub.status.busy": "2021-03-04T20:14:40.890835Z",
     "iopub.status.idle": "2021-03-04T20:14:40.896138Z",
     "shell.execute_reply": "2021-03-04T20:14:40.896602Z"
    },
    "papermill": {
     "duration": 0.033718,
     "end_time": "2021-03-04T20:14:40.896772",
     "exception": false,
     "start_time": "2021-03-04T20:14:40.863054",
     "status": "completed"
    },
    "tags": []
   },
   "outputs": [
    {
     "name": "stdout",
     "output_type": "stream",
     "text": [
      "Mean: 4.37777777777778\n",
      "Geometric Mean: 4.398713175692652\n",
      "Harmonic Mean: 4.459776787460434\n",
      "Minimum: 5\n",
      "Maximum: 7\n"
     ]
    }
   ],
   "source": [
    "print('Mean:', np.mean(_mosquitos.beer_response) - np.mean(_mosquitos.water_response))\n",
    "print('Geometric Mean:', gmean(_mosquitos.beer_response) - gmean(_mosquitos.water_response))\n",
    "print('Harmonic Mean:', st.harmonic_mean(_mosquitos.beer_response) - st.harmonic_mean(_mosquitos.water_response))\n",
    "print('Minimum:', np.min(_mosquitos.beer_response) - np.min(_mosquitos.water_response))\n",
    "print('Maximum:', np.max(_mosquitos.beer_response) - np.max(_mosquitos.water_response))"
   ]
  },
  {
   "cell_type": "code",
   "execution_count": 12,
   "metadata": {
    "execution": {
     "iopub.execute_input": "2021-03-04T20:14:40.965457Z",
     "iopub.status.busy": "2021-03-04T20:14:40.964751Z",
     "iopub.status.idle": "2021-03-04T20:14:40.968999Z",
     "shell.execute_reply": "2021-03-04T20:14:40.969469Z"
    },
    "papermill": {
     "duration": 0.051593,
     "end_time": "2021-03-04T20:14:40.969639",
     "exception": false,
     "start_time": "2021-03-04T20:14:40.918046",
     "status": "completed"
    },
    "tags": []
   },
   "outputs": [
    {
     "data": {
      "text/html": [
       "<div>\n",
       "<style scoped>\n",
       "    .dataframe tbody tr th:only-of-type {\n",
       "        vertical-align: middle;\n",
       "    }\n",
       "\n",
       "    .dataframe tbody tr th {\n",
       "        vertical-align: top;\n",
       "    }\n",
       "\n",
       "    .dataframe thead th {\n",
       "        text-align: right;\n",
       "    }\n",
       "</style>\n",
       "<table border=\"1\" class=\"dataframe\">\n",
       "  <thead>\n",
       "    <tr style=\"text-align: right;\">\n",
       "      <th></th>\n",
       "      <th>Statistic Description</th>\n",
       "      <th>Beer</th>\n",
       "      <th>Water</th>\n",
       "    </tr>\n",
       "  </thead>\n",
       "  <tbody>\n",
       "    <tr>\n",
       "      <th>0</th>\n",
       "      <td>Arithmetic Mean</td>\n",
       "      <td>23.000000</td>\n",
       "      <td>19.000000</td>\n",
       "    </tr>\n",
       "    <tr>\n",
       "      <th>1</th>\n",
       "      <td>Harmonic Mean</td>\n",
       "      <td>22.915224</td>\n",
       "      <td>18.455448</td>\n",
       "    </tr>\n",
       "    <tr>\n",
       "      <th>2</th>\n",
       "      <td>Median</td>\n",
       "      <td>24.000000</td>\n",
       "      <td>20.000000</td>\n",
       "    </tr>\n",
       "    <tr>\n",
       "      <th>3</th>\n",
       "      <td>Median Low</td>\n",
       "      <td>24.000000</td>\n",
       "      <td>20.000000</td>\n",
       "    </tr>\n",
       "    <tr>\n",
       "      <th>4</th>\n",
       "      <td>Median High</td>\n",
       "      <td>24.000000</td>\n",
       "      <td>20.000000</td>\n",
       "    </tr>\n",
       "    <tr>\n",
       "      <th>5</th>\n",
       "      <td>Median Grouped</td>\n",
       "      <td>23.666667</td>\n",
       "      <td>20.000000</td>\n",
       "    </tr>\n",
       "    <tr>\n",
       "      <th>6</th>\n",
       "      <td>Standard Deviation</td>\n",
       "      <td>4.123106</td>\n",
       "      <td>3.605551</td>\n",
       "    </tr>\n",
       "    <tr>\n",
       "      <th>7</th>\n",
       "      <td>Mean Absolute Deviation</td>\n",
       "      <td>3.536000</td>\n",
       "      <td>2.975309</td>\n",
       "    </tr>\n",
       "    <tr>\n",
       "      <th>8</th>\n",
       "      <td>Median Absolute Deviation</td>\n",
       "      <td>4.000000</td>\n",
       "      <td>2.000000</td>\n",
       "    </tr>\n",
       "    <tr>\n",
       "      <th>9</th>\n",
       "      <td>Variance</td>\n",
       "      <td>17.000000</td>\n",
       "      <td>13.000000</td>\n",
       "    </tr>\n",
       "  </tbody>\n",
       "</table>\n",
       "</div>"
      ],
      "text/plain": [
       "       Statistic Description       Beer      Water\n",
       "0            Arithmetic Mean  23.000000  19.000000\n",
       "1              Harmonic Mean  22.915224  18.455448\n",
       "2                     Median  24.000000  20.000000\n",
       "3                 Median Low  24.000000  20.000000\n",
       "4                Median High  24.000000  20.000000\n",
       "5             Median Grouped  23.666667  20.000000\n",
       "6         Standard Deviation   4.123106   3.605551\n",
       "7    Mean Absolute Deviation   3.536000   2.975309\n",
       "8  Median Absolute Deviation   4.000000   2.000000\n",
       "9                   Variance  17.000000  13.000000"
      ]
     },
     "execution_count": 12,
     "metadata": {},
     "output_type": "execute_result"
    }
   ],
   "source": [
    "descriptive_statistics = pd.DataFrame()\n",
    "\n",
    "statistic_description = []\n",
    "statistic_description.append('Arithmetic Mean')\n",
    "statistic_description.append('Harmonic Mean')\n",
    "statistic_description.append('Median')\n",
    "statistic_description.append('Median Low')\n",
    "statistic_description.append('Median High')\n",
    "statistic_description.append('Median Grouped')\n",
    "statistic_description.append('Standard Deviation')\n",
    "statistic_description.append('Mean Absolute Deviation')\n",
    "statistic_description.append('Median Absolute Deviation')\n",
    "statistic_description.append('Variance')\n",
    "\n",
    "beer = []\n",
    "beer.append(st.mean(_mosquitos.beer_response))\n",
    "beer.append(st.harmonic_mean(_mosquitos.beer_response))\n",
    "beer.append(st.median(_mosquitos.beer_response))\n",
    "beer.append(st.median_low(_mosquitos.beer_response))\n",
    "beer.append(st.median_high(_mosquitos.beer_response))\n",
    "beer.append(st.median_grouped(_mosquitos.beer_response))\n",
    "beer.append(st.stdev(_mosquitos.beer_response))\n",
    "beer.append(float(_mosquitos.beer_df.mad()))\n",
    "beer.append(stats.median_abs_deviation(_mosquitos.beer_response))\n",
    "beer.append(st.variance(_mosquitos.beer_response))\n",
    "\n",
    "water = []\n",
    "water.append(st.mean(_mosquitos.water_response))\n",
    "water.append(st.harmonic_mean(_mosquitos.water_response))\n",
    "water.append(st.median(_mosquitos.water_response))\n",
    "water.append(st.median_low(_mosquitos.water_response))\n",
    "water.append(st.median_high(_mosquitos.water_response))\n",
    "water.append(st.median_grouped(_mosquitos.water_response))\n",
    "water.append(st.stdev(_mosquitos.water_response))\n",
    "water.append(float(_mosquitos.water_df.mad()))\n",
    "water.append(stats.median_abs_deviation(_mosquitos.water_response))\n",
    "water.append(st.variance(_mosquitos.water_response))\n",
    "\n",
    "descriptive_statistics['Statistic Description'] = statistic_description\n",
    "descriptive_statistics['Beer'] = beer\n",
    "descriptive_statistics['Water'] = water\n",
    "\n",
    "descriptive_statistics"
   ]
  },
  {
   "cell_type": "code",
   "execution_count": 13,
   "metadata": {
    "execution": {
     "iopub.execute_input": "2021-03-04T20:14:41.024278Z",
     "iopub.status.busy": "2021-03-04T20:14:41.023654Z",
     "iopub.status.idle": "2021-03-04T20:14:41.054199Z",
     "shell.execute_reply": "2021-03-04T20:14:41.054690Z"
    },
    "papermill": {
     "duration": 0.064143,
     "end_time": "2021-03-04T20:14:41.054901",
     "exception": false,
     "start_time": "2021-03-04T20:14:40.990758",
     "status": "completed"
    },
    "tags": []
   },
   "outputs": [
    {
     "name": "stdout",
     "output_type": "stream",
     "text": [
      " Descriptive Statistics\n",
      "=======================\n",
      "nobs                 25\n",
      "missing               0\n",
      "mean               23.6\n",
      "std_err          0.1653\n",
      "upper_ci          23.92\n",
      "lower_ci          23.28\n",
      "std               4.133\n",
      "iqr                   7\n",
      "iqr_normal        5.189\n",
      "mad               3.536\n",
      "mad_normal        4.432\n",
      "coef_var         0.1751\n",
      "range                14\n",
      "max                  31\n",
      "min                  17\n",
      "skew             0.2262\n",
      "kurtosis          1.877\n",
      "jarque_bera       1.527\n",
      "jarque_bera_pval  0.466\n",
      "mode                 20\n",
      "mode_freq          0.16\n",
      "median               24\n",
      "-----------------------\n"
     ]
    }
   ],
   "source": [
    "print(Description(_mosquitos.beer_response))"
   ]
  },
  {
   "cell_type": "code",
   "execution_count": 14,
   "metadata": {
    "execution": {
     "iopub.execute_input": "2021-03-04T20:14:41.140498Z",
     "iopub.status.busy": "2021-03-04T20:14:41.139790Z",
     "iopub.status.idle": "2021-03-04T20:14:41.143513Z",
     "shell.execute_reply": "2021-03-04T20:14:41.142642Z"
    },
    "papermill": {
     "duration": 0.06511,
     "end_time": "2021-03-04T20:14:41.143662",
     "exception": false,
     "start_time": "2021-03-04T20:14:41.078552",
     "status": "completed"
    },
    "tags": []
   },
   "outputs": [
    {
     "name": "stdout",
     "output_type": "stream",
     "text": [
      " Descriptive Statistics \n",
      "========================\n",
      "nobs                  18\n",
      "missing                0\n",
      "mean               19.22\n",
      "std_err            0.204\n",
      "upper_ci           19.62\n",
      "lower_ci           18.82\n",
      "std                3.671\n",
      "iqr                  5.5\n",
      "iqr_normal         4.077\n",
      "mad                2.975\n",
      "mad_normal         3.729\n",
      "coef_var           0.191\n",
      "range                 12\n",
      "max                   24\n",
      "min                   12\n",
      "skew             -0.5566\n",
      "kurtosis           2.198\n",
      "jarque_bera        1.411\n",
      "jarque_bera_pval  0.4937\n",
      "mode                  22\n",
      "mode_freq         0.1667\n",
      "median                20\n",
      "------------------------\n"
     ]
    }
   ],
   "source": [
    "print(Description(_mosquitos.water_response))"
   ]
  },
  {
   "cell_type": "markdown",
   "metadata": {
    "papermill": {
     "duration": 0.021267,
     "end_time": "2021-03-04T20:14:41.186860",
     "exception": false,
     "start_time": "2021-03-04T20:14:41.165593",
     "status": "completed"
    },
    "tags": []
   },
   "source": [
    "#### Computational Method - Balanced"
   ]
  },
  {
   "cell_type": "code",
   "execution_count": 15,
   "metadata": {
    "execution": {
     "iopub.execute_input": "2021-03-04T20:14:41.308591Z",
     "iopub.status.busy": "2021-03-04T20:14:41.272487Z",
     "iopub.status.idle": "2021-03-04T20:16:12.208440Z",
     "shell.execute_reply": "2021-03-04T20:16:12.208917Z"
    },
    "papermill": {
     "duration": 91.00032,
     "end_time": "2021-03-04T20:16:12.209096",
     "exception": false,
     "start_time": "2021-03-04T20:14:41.208776",
     "status": "completed"
    },
    "tags": []
   },
   "outputs": [
    {
     "name": "stdout",
     "output_type": "stream",
     "text": [
      "-0.002068687246147024\n"
     ]
    }
   ],
   "source": [
    "measurements = _mosquitos.file_data['Response'].to_numpy()\n",
    "measurements = np.sort(measurements)\n",
    "\n",
    "mean_differences = []\n",
    "\n",
    "for count in range(1000000):\n",
    "    \n",
    "    random_distribution1 = []\n",
    "    random_distribution2 = []\n",
    "    \n",
    "    for measurement in measurements:\n",
    "\n",
    "        random_integer = random.randint(1, 2)\n",
    "\n",
    "        if random_integer == 1:\n",
    "            random_distribution1.append(measurement)\n",
    "        else:\n",
    "            random_distribution2.append(measurement)\n",
    "\n",
    "    distribution_mean1 = np.mean(random_distribution1)\n",
    "    distribution_mean2 = np.mean(random_distribution2)\n",
    "\n",
    "    mean_difference = distribution_mean1 - distribution_mean2\n",
    "    mean_differences.append(mean_difference)\n",
    "    \n",
    "print(np.mean(mean_differences))"
   ]
  },
  {
   "cell_type": "code",
   "execution_count": 16,
   "metadata": {
    "execution": {
     "iopub.execute_input": "2021-03-04T20:16:12.381296Z",
     "iopub.status.busy": "2021-03-04T20:16:12.380679Z",
     "iopub.status.idle": "2021-03-04T20:16:12.530608Z",
     "shell.execute_reply": "2021-03-04T20:16:12.530115Z"
    },
    "papermill": {
     "duration": 0.296725,
     "end_time": "2021-03-04T20:16:12.530752",
     "exception": false,
     "start_time": "2021-03-04T20:16:12.234027",
     "status": "completed"
    },
    "tags": []
   },
   "outputs": [
    {
     "data": {
      "image/png": "[encoded data removed]",
      "text/plain": [
       "<Figure size 432x288 with 1 Axes>"
      ]
     },
     "metadata": {},
     "output_type": "display_data"
    }
   ],
   "source": [
    "sns.boxplot(data = mean_differences)\n",
    "plt.show()"
   ]
  },
  {
   "cell_type": "code",
   "execution_count": 17,
   "metadata": {
    "execution": {
     "iopub.execute_input": "2021-03-04T20:16:12.599942Z",
     "iopub.status.busy": "2021-03-04T20:16:12.599337Z",
     "iopub.status.idle": "2021-03-04T20:16:13.539230Z",
     "shell.execute_reply": "2021-03-04T20:16:13.538639Z"
    },
    "papermill": {
     "duration": 0.986005,
     "end_time": "2021-03-04T20:16:13.539395",
     "exception": false,
     "start_time": "2021-03-04T20:16:12.553390",
     "status": "completed"
    },
    "tags": []
   },
   "outputs": [
    {
     "data": {
      "image/png": "[encoded data removed]",
      "text/plain": [
       "<Figure size 432x288 with 1 Axes>"
      ]
     },
     "metadata": {},
     "output_type": "display_data"
    }
   ],
   "source": [
    "sns.histplot(mean_differences, bins = 50)\n",
    "plt.show()"
   ]
  },
  {
   "cell_type": "code",
   "execution_count": 18,
   "metadata": {
    "execution": {
     "iopub.execute_input": "2021-03-04T20:16:13.598188Z",
     "iopub.status.busy": "2021-03-04T20:16:13.597623Z",
     "iopub.status.idle": "2021-03-04T20:16:18.574953Z",
     "shell.execute_reply": "2021-03-04T20:16:18.574493Z"
    },
    "papermill": {
     "duration": 5.012717,
     "end_time": "2021-03-04T20:16:18.575097",
     "exception": false,
     "start_time": "2021-03-04T20:16:13.562380",
     "status": "completed"
    },
    "tags": []
   },
   "outputs": [
    {
     "data": {
      "image/png": "[encoded data removed]",
      "text/plain": [
       "<Figure size 432x288 with 1 Axes>"
      ]
     },
     "metadata": {},
     "output_type": "display_data"
    }
   ],
   "source": [
    "sns.kdeplot(mean_differences)\n",
    "plt.show()"
   ]
  },
  {
   "cell_type": "code",
   "execution_count": 19,
   "metadata": {
    "execution": {
     "iopub.execute_input": "2021-03-04T20:16:18.630114Z",
     "iopub.status.busy": "2021-03-04T20:16:18.629345Z",
     "iopub.status.idle": "2021-03-04T20:16:18.632822Z",
     "shell.execute_reply": "2021-03-04T20:16:18.633239Z"
    },
    "papermill": {
     "duration": 0.034294,
     "end_time": "2021-03-04T20:16:18.633438",
     "exception": false,
     "start_time": "2021-03-04T20:16:18.599144",
     "status": "completed"
    },
    "tags": []
   },
   "outputs": [
    {
     "name": "stdout",
     "output_type": "stream",
     "text": [
      "Mean: 4.37777777777778\n",
      "Geometric Mean: 4.398713175692652\n",
      "Harmonic Mean: 4.459776787460434\n"
     ]
    }
   ],
   "source": [
    "print('Mean:', np.mean(_mosquitos.beer_response) - np.mean(_mosquitos.water_response))\n",
    "print('Geometric Mean:', gmean(_mosquitos.beer_response) - gmean(_mosquitos.water_response))\n",
    "print('Harmonic Mean:', st.harmonic_mean(_mosquitos.beer_response) - st.harmonic_mean(_mosquitos.water_response))"
   ]
  },
  {
   "cell_type": "code",
   "execution_count": 20,
   "metadata": {
    "execution": {
     "iopub.execute_input": "2021-03-04T20:16:18.684806Z",
     "iopub.status.busy": "2021-03-04T20:16:18.683913Z",
     "iopub.status.idle": "2021-03-04T20:16:18.792571Z",
     "shell.execute_reply": "2021-03-04T20:16:18.792962Z"
    },
    "papermill": {
     "duration": 0.135772,
     "end_time": "2021-03-04T20:16:18.793128",
     "exception": false,
     "start_time": "2021-03-04T20:16:18.657356",
     "status": "completed"
    },
    "tags": []
   },
   "outputs": [
    {
     "data": {
      "text/plain": [
       "4.099435834640155"
      ]
     },
     "execution_count": 20,
     "metadata": {},
     "output_type": "execute_result"
    }
   ],
   "source": [
    "np.percentile(mean_differences, 99.9)"
   ]
  },
  {
   "cell_type": "code",
   "execution_count": 21,
   "metadata": {
    "execution": {
     "iopub.execute_input": "2021-03-04T20:16:18.847080Z",
     "iopub.status.busy": "2021-03-04T20:16:18.846184Z",
     "iopub.status.idle": "2021-03-04T20:16:19.035878Z",
     "shell.execute_reply": "2021-03-04T20:16:19.035363Z"
    },
    "papermill": {
     "duration": 0.217338,
     "end_time": "2021-03-04T20:16:19.036012",
     "exception": false,
     "start_time": "2021-03-04T20:16:18.818674",
     "status": "completed"
    },
    "tags": []
   },
   "outputs": [
    {
     "name": "stdout",
     "output_type": "stream",
     "text": [
      "Number greater than targe mean:  403\n",
      "Total:  1000000\n",
      "0.000403\n"
     ]
    }
   ],
   "source": [
    "total = 0\n",
    "greater_than_target_mean = 0\n",
    "\n",
    "for mean_difference in mean_differences:\n",
    "    \n",
    "    total += 1\n",
    "\n",
    "    if mean_difference >= 4.4: greater_than_target_mean += 1\n",
    "        \n",
    "print('Number greater than targe mean: ', greater_than_target_mean)\n",
    "print('Total: ', total)\n",
    "print(greater_than_target_mean / total)"
   ]
  },
  {
   "cell_type": "markdown",
   "metadata": {
    "papermill": {
     "duration": 0.02498,
     "end_time": "2021-03-04T20:16:19.085919",
     "exception": false,
     "start_time": "2021-03-04T20:16:19.060939",
     "status": "completed"
    },
    "tags": []
   },
   "source": [
    "#### Computational Method - Proportional"
   ]
  },
  {
   "cell_type": "code",
   "execution_count": 22,
   "metadata": {
    "execution": {
     "iopub.execute_input": "2021-03-04T20:16:19.374657Z",
     "iopub.status.busy": "2021-03-04T20:16:19.246571Z",
     "iopub.status.idle": "2021-03-04T20:17:17.386616Z",
     "shell.execute_reply": "2021-03-04T20:17:17.387296Z"
    },
    "papermill": {
     "duration": 58.276601,
     "end_time": "2021-03-04T20:17:17.387518",
     "exception": false,
     "start_time": "2021-03-04T20:16:19.110917",
     "status": "completed"
    },
    "tags": []
   },
   "outputs": [
    {
     "name": "stdout",
     "output_type": "stream",
     "text": [
      "0.00039803777777777834\n"
     ]
    }
   ],
   "source": [
    "mean_differences = []\n",
    "\n",
    "for count in range(1000000):\n",
    "    \n",
    "    random_distribution1 = []\n",
    "    random_distribution2 = []\n",
    "    \n",
    "    measurements = _mosquitos.file_data['Response'].to_numpy()\n",
    "    measurements = np.sort(measurements)\n",
    "    np.random.shuffle(measurements)\n",
    "    \n",
    "    measurement_count = 0\n",
    "\n",
    "    for measurement in measurements:\n",
    "\n",
    "        measurement_count += 1\n",
    "        \n",
    "        if measurement_count <= 18:\n",
    "            random_distribution1.append(measurement)\n",
    "        else:\n",
    "            random_distribution2.append(measurement)\n",
    "\n",
    "    distribution_mean1 = np.mean(random_distribution1)\n",
    "    distribution_mean2 = np.mean(random_distribution2)\n",
    "\n",
    "    mean_difference = distribution_mean1 - distribution_mean2\n",
    "    mean_differences.append(mean_difference)\n",
    "    \n",
    "print(np.mean(mean_differences))        "
   ]
  },
  {
   "cell_type": "code",
   "execution_count": 23,
   "metadata": {
    "execution": {
     "iopub.execute_input": "2021-03-04T20:17:17.559828Z",
     "iopub.status.busy": "2021-03-04T20:17:17.548213Z",
     "iopub.status.idle": "2021-03-04T20:17:17.703149Z",
     "shell.execute_reply": "2021-03-04T20:17:17.702660Z"
    },
    "papermill": {
     "duration": 0.289412,
     "end_time": "2021-03-04T20:17:17.703318",
     "exception": false,
     "start_time": "2021-03-04T20:17:17.413906",
     "status": "completed"
    },
    "tags": []
   },
   "outputs": [
    {
     "data": {
      "image/png": "[encoded data removed]",
      "text/plain": [
       "<Figure size 432x288 with 1 Axes>"
      ]
     },
     "metadata": {},
     "output_type": "display_data"
    }
   ],
   "source": [
    "sns.boxplot(data = mean_differences)\n",
    "plt.show()"
   ]
  },
  {
   "cell_type": "code",
   "execution_count": 24,
   "metadata": {
    "execution": {
     "iopub.execute_input": "2021-03-04T20:17:17.779646Z",
     "iopub.status.busy": "2021-03-04T20:17:17.778692Z",
     "iopub.status.idle": "2021-03-04T20:17:18.684681Z",
     "shell.execute_reply": "2021-03-04T20:17:18.684182Z"
    },
    "papermill": {
     "duration": 0.955377,
     "end_time": "2021-03-04T20:17:18.684827",
     "exception": false,
     "start_time": "2021-03-04T20:17:17.729450",
     "status": "completed"
    },
    "tags": []
   },
   "outputs": [
    {
     "data": {
      "image/png": "[encoded data removed]",
      "text/plain": [
       "<Figure size 432x288 with 1 Axes>"
      ]
     },
     "metadata": {},
     "output_type": "display_data"
    }
   ],
   "source": [
    "sns.histplot(mean_differences, bins = 50)\n",
    "plt.show()"
   ]
  },
  {
   "cell_type": "code",
   "execution_count": 25,
   "metadata": {
    "execution": {
     "iopub.execute_input": "2021-03-04T20:17:18.748962Z",
     "iopub.status.busy": "2021-03-04T20:17:18.748018Z",
     "iopub.status.idle": "2021-03-04T20:17:23.768656Z",
     "shell.execute_reply": "2021-03-04T20:17:23.768133Z"
    },
    "papermill": {
     "duration": 5.05731,
     "end_time": "2021-03-04T20:17:23.768793",
     "exception": false,
     "start_time": "2021-03-04T20:17:18.711483",
     "status": "completed"
    },
    "tags": []
   },
   "outputs": [
    {
     "data": {
      "image/png": "[encoded data removed]",
      "text/plain": [
       "<Figure size 432x288 with 1 Axes>"
      ]
     },
     "metadata": {},
     "output_type": "display_data"
    }
   ],
   "source": [
    "sns.kdeplot(mean_differences)\n",
    "plt.show()"
   ]
  },
  {
   "cell_type": "code",
   "execution_count": 26,
   "metadata": {
    "execution": {
     "iopub.execute_input": "2021-03-04T20:17:23.829583Z",
     "iopub.status.busy": "2021-03-04T20:17:23.828959Z",
     "iopub.status.idle": "2021-03-04T20:17:23.833244Z",
     "shell.execute_reply": "2021-03-04T20:17:23.832772Z"
    },
    "papermill": {
     "duration": 0.03711,
     "end_time": "2021-03-04T20:17:23.833396",
     "exception": false,
     "start_time": "2021-03-04T20:17:23.796286",
     "status": "completed"
    },
    "tags": []
   },
   "outputs": [
    {
     "name": "stdout",
     "output_type": "stream",
     "text": [
      "Mean: 4.37777777777778\n",
      "Geometric Mean: 4.398713175692652\n",
      "Harmonic Mean: 4.459776787460434\n"
     ]
    }
   ],
   "source": [
    "print('Mean:', np.mean(_mosquitos.beer_response) - np.mean(_mosquitos.water_response))\n",
    "print('Geometric Mean:', gmean(_mosquitos.beer_response) - gmean(_mosquitos.water_response))\n",
    "print('Harmonic Mean:', st.harmonic_mean(_mosquitos.beer_response) - st.harmonic_mean(_mosquitos.water_response))"
   ]
  },
  {
   "cell_type": "code",
   "execution_count": 27,
   "metadata": {
    "execution": {
     "iopub.execute_input": "2021-03-04T20:17:23.983169Z",
     "iopub.status.busy": "2021-03-04T20:17:23.982234Z",
     "iopub.status.idle": "2021-03-04T20:17:23.995701Z",
     "shell.execute_reply": "2021-03-04T20:17:23.995188Z"
    },
    "papermill": {
     "duration": 0.13497,
     "end_time": "2021-03-04T20:17:23.995836",
     "exception": false,
     "start_time": "2021-03-04T20:17:23.860866",
     "status": "completed"
    },
    "tags": []
   },
   "outputs": [
    {
     "data": {
      "text/plain": [
       "4.126666666666669"
      ]
     },
     "execution_count": 27,
     "metadata": {},
     "output_type": "execute_result"
    }
   ],
   "source": [
    "np.percentile(mean_differences, 99.9)"
   ]
  },
  {
   "cell_type": "code",
   "execution_count": 28,
   "metadata": {
    "execution": {
     "iopub.execute_input": "2021-03-04T20:17:24.093146Z",
     "iopub.status.busy": "2021-03-04T20:17:24.088068Z",
     "iopub.status.idle": "2021-03-04T20:17:24.244321Z",
     "shell.execute_reply": "2021-03-04T20:17:24.245131Z"
    },
    "papermill": {
     "duration": 0.221253,
     "end_time": "2021-03-04T20:17:24.245372",
     "exception": false,
     "start_time": "2021-03-04T20:17:24.024119",
     "status": "completed"
    },
    "tags": []
   },
   "outputs": [
    {
     "name": "stdout",
     "output_type": "stream",
     "text": [
      "Number greater than targe mean:  490\n",
      "Total:  1000000\n",
      "0.00049\n"
     ]
    }
   ],
   "source": [
    "total = 0\n",
    "greater_than_target_mean = 0\n",
    "\n",
    "for mean_difference in mean_differences:\n",
    "    \n",
    "    total += 1\n",
    "\n",
    "    if mean_difference >= 4.4: greater_than_target_mean += 1\n",
    "        \n",
    "print('Number greater than targe mean: ', greater_than_target_mean)\n",
    "print('Total: ', total)\n",
    "print(greater_than_target_mean / total)"
   ]
  },
  {
   "cell_type": "markdown",
   "metadata": {
    "papermill": {
     "duration": 0.027773,
     "end_time": "2021-03-04T20:17:24.302092",
     "exception": false,
     "start_time": "2021-03-04T20:17:24.274319",
     "status": "completed"
    },
    "tags": []
   },
   "source": [
    "T-tests support the assertion that beer consumption will make the consumer more attractive to mosquitos."
   ]
  },
  {
   "cell_type": "code",
   "execution_count": 29,
   "metadata": {
    "execution": {
     "iopub.execute_input": "2021-03-04T20:17:24.366090Z",
     "iopub.status.busy": "2021-03-04T20:17:24.365160Z",
     "iopub.status.idle": "2021-03-04T20:17:24.369548Z",
     "shell.execute_reply": "2021-03-04T20:17:24.369026Z"
    },
    "papermill": {
     "duration": 0.039243,
     "end_time": "2021-03-04T20:17:24.369689",
     "exception": false,
     "start_time": "2021-03-04T20:17:24.330446",
     "status": "completed"
    },
    "tags": []
   },
   "outputs": [
    {
     "data": {
      "text/plain": [
       "Ttest_1sampResult(statistic=-5.059310687858129, pvalue=9.680794997942742e-05)"
      ]
     },
     "execution_count": 29,
     "metadata": {},
     "output_type": "execute_result"
    }
   ],
   "source": [
    "stats.ttest_1samp(_mosquitos.water_response, np.mean(_mosquitos.beer_response))"
   ]
  },
  {
   "cell_type": "code",
   "execution_count": 30,
   "metadata": {
    "execution": {
     "iopub.execute_input": "2021-03-04T20:17:24.435760Z",
     "iopub.status.busy": "2021-03-04T20:17:24.434928Z",
     "iopub.status.idle": "2021-03-04T20:17:24.438999Z",
     "shell.execute_reply": "2021-03-04T20:17:24.438505Z"
    },
    "papermill": {
     "duration": 0.038624,
     "end_time": "2021-03-04T20:17:24.439127",
     "exception": false,
     "start_time": "2021-03-04T20:17:24.400503",
     "status": "completed"
    },
    "tags": []
   },
   "outputs": [
    {
     "data": {
      "text/plain": [
       "Ttest_indResult(statistic=-3.5869843832143413, pvalue=0.0008831268539665391)"
      ]
     },
     "execution_count": 30,
     "metadata": {},
     "output_type": "execute_result"
    }
   ],
   "source": [
    "stats.ttest_ind(_mosquitos.water_response, _mosquitos.beer_response)"
   ]
  },
  {
   "cell_type": "markdown",
   "metadata": {
    "papermill": {
     "duration": 0.028838,
     "end_time": "2021-03-04T20:17:24.496918",
     "exception": false,
     "start_time": "2021-03-04T20:17:24.468080",
     "status": "completed"
    },
    "tags": []
   },
   "source": [
    "### Conclusion\n",
    "\n",
    "Consumption of beer does appear to make the consumer more attractive to mosquitos. This assertion can be made at a confidence level greater than 99%."
   ]
  }
 ],
 "metadata": {
  "kernelspec": {
   "display_name": "Python 3",
   "language": "python",
   "name": "python3"
  },
  "language_info": {
   "codemirror_mode": {
    "name": "ipython",
    "version": 3
   },
   "file_extension": ".py",
   "mimetype": "text/x-python",
   "name": "python",
   "nbconvert_exporter": "python",
   "pygments_lexer": "ipython3",
   "version": "3.8.5"
  },
  "papermill": {
   "default_parameters": {},
   "duration": 171.586194,
   "end_time": "2021-03-04T20:17:25.134066",
   "environment_variables": {},
   "exception": null,
   "input_path": "__notebook__.ipynb",
   "output_path": "__notebook__.ipynb",
   "parameters": {},
   "start_time": "2021-03-04T20:14:33.547872",
   "version": "2.2.2"
  }
 },
 "nbformat": 4,
 "nbformat_minor": 4
}
